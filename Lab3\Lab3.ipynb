{
  "cells": [
    {
      "cell_type": "markdown",
      "metadata": {
        "id": "bkhRgz_1_JKn"
      },
      "source": [
        "# D7041E Applied artificial intelligence (Lab 3)\n",
        "Nazrul Islam & Srinivas Bobba (Group 6)"
      ]
    },
    {
      "cell_type": "code",
      "execution_count": null,
      "metadata": {
        "id": "A9hmlsGq_JKp"
      },
      "outputs": [],
      "source": [
        "import numpy as np\n",
        "import itertools\n",
        "import sklearn.metrics\n",
        "import os\n",
        "import seaborn as sn\n",
        "import pandas as pd\n",
        "import matplotlib.pyplot as plt\n",
        "import requests\n",
        "from pathlib import Path"
      ]
    },
    {
      "cell_type": "code",
      "execution_count": null,
      "metadata": {
        "colab": {
          "base_uri": "https://localhost:8080/"
        },
        "id": "TeWFp3pbeUKF",
        "outputId": "bdb81e0d-e971-4c4f-f5ce-1337b1691fa7"
      },
      "outputs": [
        {
          "name": "stdout",
          "output_type": "stream",
          "text": [
            "c:\\MyML\\Notebooks\\LTU\\D7041E\\Lab3\n",
            "c:\\MyML\\Notebooks\\LTU\\D7041E\n"
          ]
        }
      ],
      "source": [
        "#file_path = os.path.abspath(__file__) # full path of the script\n",
        "file_path = os.path.abspath('')\n",
        "dir_path = os.path.dirname(file_path) # full path of the directory\n",
        "\n",
        "print(file_path)\n",
        "print(dir_path)"
      ]
    },
    {
      "cell_type": "code",
      "execution_count": null,
      "metadata": {
        "id": "88O5K1fQDOVM"
      },
      "outputs": [],
      "source": [
        "language_codes = [\"bg\", \"cs\", \"da\", \"de\", \"el\", \"es\", \"et\", \"fi\", \"fr\", \"hu\", \"it\", \"lt\", \"lv\", \"nl\", \"pl\", \"pt\", \"ro\", \"sk\", \"sl\", \"sv\", \"en\"]\n",
        "language_codes_3 = [\"bul\", \"ces\", \"dan\", \"deu\", \"ell\", \"spa\", \"est\", \"fin\", \"fra\", \"hun\", \"ita\", \"lit\", \"lav\", \"nld\", \"pol\", \"por\", \"ron\", \"slk\", \"slv\", \"swe\", \"eng\"]"
      ]
    },
    {
      "cell_type": "markdown",
      "metadata": {
        "id": "oeVwHm79_JKq"
      },
      "source": [
        "## Task 1.1 Import datasets into Jupyter environment"
      ]
    },
    {
      "cell_type": "markdown",
      "metadata": {
        "id": "5oIT7iiOAqfT"
      },
      "source": [
        "### In this section, we download all the required files"
      ]
    },
    {
      "cell_type": "markdown",
      "metadata": {
        "id": "cwQ5Zi7SA5G9"
      },
      "source": [
        "The training data that is based on the Wortschatz Corpora"
      ]
    },
    {
      "cell_type": "code",
      "execution_count": null,
      "metadata": {
        "id": "HvjuG81Mexq1"
      },
      "outputs": [],
      "source": [
        "import tarfile\n",
        "\n",
        "def download_file(url, download_dir=\"/\"):\n",
        "  file_name = os.path.basename(url)\n",
        "\n",
        "  #download the file\n",
        "  if os.path.exists(os.path.join(file_path, download_dir, file_name)):\n",
        "    print(f'{os.path.join(file_path, download_dir, file_name)} already downloaded.')\n",
        "    #return\n",
        "  else:\n",
        "    response = requests.get(url)\n",
        "    with open(os.path.join(file_path, download_dir, file_name), mode=\"wb\") as file:\n",
        "      file.write(response.content)\n",
        "\n",
        "  #extract the compressed file\n",
        "  compressed_file = tarfile.open(os.path.join(file_path, download_dir, file_name))\n",
        "  #print(compressed_file.getnames())\n",
        "\n",
        "  compressed_file.extractall(os.path.join(file_path, download_dir))\n",
        "  compressed_file.close()\n",
        "\n",
        "  print(f'{file_name} downloaded/extracted.')"
      ]
    },
    {
      "cell_type": "code",
      "execution_count": null,
      "metadata": {
        "id": "o39BqoeEiGLm"
      },
      "outputs": [],
      "source": [
        "download_file(\"https://downloads.wortschatz-leipzig.de/corpora/deu_newscrawl-public_2018_10K.tar.gz\", \"leipzig\")\n",
        "download_file(\"https://downloads.wortschatz-leipzig.de/corpora/eng_newscrawl-public_2018_10K.tar.gz\", \"leipzig\")\n",
        "download_file(\"https://downloads.wortschatz-leipzig.de/corpora/bul_newscrawl_2017_10K.tar.gz\", \"leipzig\")\n",
        "download_file(\"https://downloads.wortschatz-leipzig.de/corpora/ces_newscrawl_2019_10K.tar.gz\", \"leipzig\")\n",
        "download_file(\"https://downloads.wortschatz-leipzig.de/corpora/dan_newscrawl_2019_10K.tar.gz\", \"leipzig\")\n",
        "download_file(\"https://downloads.wortschatz-leipzig.de/corpora/ell_newscrawl_2017_10K.tar.gz\", \"leipzig\")\n",
        "download_file(\"https://downloads.wortschatz-leipzig.de/corpora/est_newscrawl_2017_10K.tar.gz\", \"leipzig\")\n",
        "download_file(\"https://downloads.wortschatz-leipzig.de/corpora/spa_newscrawl-public_2019_10K.tar.gz\", \"leipzig\")\n",
        "download_file(\"https://downloads.wortschatz-leipzig.de/corpora/fin_newscrawl_2017_10K.tar.gz\", \"leipzig\")\n",
        "download_file(\"https://downloads.wortschatz-leipzig.de/corpora/fra_newscrawl_2018_10K.tar.gz\", \"leipzig\")\n",
        "download_file(\"https://downloads.wortschatz-leipzig.de/corpora/hun_newscrawl_2017_10K.tar.gz\", \"leipzig\")\n",
        "download_file(\"https://downloads.wortschatz-leipzig.de/corpora/ita_newscrawl_2019_10K.tar.gz\", \"leipzig\")\n",
        "download_file(\"https://downloads.wortschatz-leipzig.de/corpora/lav_newscrawl_2016_10K.tar.gz\", \"leipzig\")\n",
        "download_file(\"https://downloads.wortschatz-leipzig.de/corpora/lit_newscrawl_2016_10K.tar.gz\", \"leipzig\")\n",
        "download_file(\"https://downloads.wortschatz-leipzig.de/corpora/nld_newscrawl_2019_10K.tar.gz\", \"leipzig\")\n",
        "download_file(\"https://downloads.wortschatz-leipzig.de/corpora/pol_newscrawl_2018_10K.tar.gz\", \"leipzig\")\n",
        "download_file(\"https://downloads.wortschatz-leipzig.de/corpora/por_newscrawl_2018_10K.tar.gz\", \"leipzig\")\n",
        "download_file(\"https://downloads.wortschatz-leipzig.de/corpora/ron_newscrawl_2015_10K.tar.gz\", \"leipzig\")\n",
        "download_file(\"https://downloads.wortschatz-leipzig.de/corpora/slk_newscrawl_2016_10K.tar.gz\", \"leipzig\")\n",
        "download_file(\"https://downloads.wortschatz-leipzig.de/corpora/slv_newscrawl_2016_10K.tar.gz\", \"leipzig\")\n",
        "download_file(\"https://downloads.wortschatz-leipzig.de/corpora/swe_newscrawl_2018_10K.tar.gz\", \"leipzig\")"
      ]
    },
    {
      "cell_type": "code",
      "execution_count": null,
      "metadata": {
        "colab": {
          "base_uri": "https://localhost:8080/"
        },
        "id": "VFAIy4ofi-GK",
        "outputId": "be85d6c7-5fc5-44a2-cce3-f034209ac039"
      },
      "outputs": [
        {
          "name": "stdout",
          "output_type": "stream",
          "text": [
            "bul bul_newscrawl_2017_10K-sentences.txt\n",
            "ces ces_newscrawl_2019_10K-sentences.txt\n",
            "dan dan_newscrawl_2019_10K-sentences.txt\n",
            "deu deu_newscrawl-public_2018_10K-sentences.txt\n",
            "ell ell_newscrawl_2017_10K-sentences.txt\n",
            "eng eng_newscrawl-public_2018_10K-sentences.txt\n",
            "est est_newscrawl_2017_10K-sentences.txt\n",
            "fin fin_newscrawl_2017_10K-sentences.txt\n",
            "fra fra_newscrawl_2018_10K-sentences.txt\n",
            "hun hun_newscrawl_2017_10K-sentences.txt\n",
            "ita ita_newscrawl_2019_10K-sentences.txt\n",
            "lav lav_newscrawl_2016_10K-sentences.txt\n",
            "lit lit_newscrawl_2016_10K-sentences.txt\n",
            "nld nld_newscrawl_2019_10K-sentences.txt\n",
            "pol pol_newscrawl_2018_10K-sentences.txt\n",
            "por por_newscrawl_2018_10K-sentences.txt\n",
            "ron ron_newscrawl_2015_10K-sentences.txt\n",
            "slk slk_newscrawl_2016_10K-sentences.txt\n",
            "slv slv_newscrawl_2016_10K-sentences.txt\n",
            "spa spa_newscrawl-public_2019_10K-sentences.txt\n",
            "swe swe_newscrawl_2018_10K-sentences.txt\n"
          ]
        }
      ],
      "source": [
        "train_data = {}\n",
        "train_data['language'] = []\n",
        "train_data['sentence'] = [\"\"]*21\n",
        "\n",
        "for (i,f) in enumerate(Path(\"./leipzig\").glob(\"**/*sentences.txt\")):\n",
        "  #print(i, f)\n",
        "\n",
        "  file_name = os.path.basename(f)\n",
        "  language_code = file_name[:3]\n",
        "\n",
        "  print(language_code, file_name)\n",
        "\n",
        "  train_data['language'].append(language_code)\n",
        "\n",
        "  with open(f, \"r\", encoding=\"utf-8\") as file:\n",
        "    #train_data['sentence'][i] = \"\".join(file.readlines(50000))\n",
        "    #for line in file:\n",
        "    #  #print(line.rstrip())\n",
        "    #  train_data['sentence'][i] += line.rstrip()\n",
        "    for line in file.readlines(100000):\n",
        "      train_data['sentence'][i] += line.rstrip()"
      ]
    },
    {
      "cell_type": "markdown",
      "metadata": {
        "id": "bL_Z039BBABO"
      },
      "source": [
        "The test data that is based on the Euro Parliament Parallel Corpus"
      ]
    },
    {
      "cell_type": "code",
      "execution_count": null,
      "metadata": {
        "id": "ve5OxLPYrRnw"
      },
      "outputs": [],
      "source": [
        "for (i,code) in enumerate(language_codes):\n",
        "  if code != \"en\":\n",
        "    download_url = \"https://www.statmt.org/europarl/v7/\" + code + \"-en.tgz\"\n",
        "    download_file(download_url,\"europarl\")"
      ]
    },
    {
      "cell_type": "code",
      "execution_count": null,
      "metadata": {
        "colab": {
          "base_uri": "https://localhost:8080/"
        },
        "id": "Csbu5K5NtOIB",
        "outputId": "5cee1ece-0c82-4b45-c480-f0e21f2110a6"
      },
      "outputs": [
        {
          "name": "stdout",
          "output_type": "stream",
          "text": [
            "Reading  europarl-v7.bg-en.bg\n",
            "Reading  europarl-v7.cs-en.cs\n",
            "Reading  europarl-v7.cs-en.cs\n",
            "Reading  europarl-v7.da-en.da\n",
            "Reading  europarl-v7.de-en.de\n",
            "Reading  europarl-v7.el-en.el\n",
            "Reading  europarl-v7.es-en.es\n",
            "Reading  europarl-v7.et-en.et\n",
            "Reading  europarl-v7.fi-en.fi\n",
            "Reading  europarl-v7.fr-en.fr\n",
            "Reading  europarl-v7.hu-en.hu\n",
            "Reading  europarl-v7.it-en.it\n",
            "Reading  europarl-v7.lt-en.lt\n",
            "Reading  europarl-v7.lv-en.lv\n",
            "Reading  europarl-v7.nl-en.nl\n",
            "Reading  europarl-v7.pl-en.pl\n",
            "Reading  europarl-v7.pt-en.pt\n",
            "Reading  europarl-v7.ro-en.ro\n",
            "Reading  europarl-v7.sk-en.sk\n",
            "Reading  europarl-v7.sl-en.sl\n",
            "Reading  europarl-v7.sv-en.sv\n",
            "Reading  europarl-v7.sv-en.en\n",
            "Reading  europarl-v7.cs-en.en\n"
          ]
        }
      ],
      "source": [
        "test_data = {}\n",
        "test_data['language'] = language_codes\n",
        "test_data['sentence'] = [\"\"]*21\n",
        "\n",
        "for code in test_data['language']:\n",
        "  #print(code)\n",
        "  for f in Path(file_path +\"/europarl\").glob(\"**/*.\"+code):\n",
        "    file_name = os.path.basename(f)\n",
        "    print(\"Reading \", file_name)\n",
        "\n",
        "    language_code = file_name[-2:]\n",
        "    #print(language_code)\n",
        "    idx = test_data['language'].index(language_code)\n",
        "    with open(f, \"r\", encoding=\"utf-8\") as file:\n",
        "      #lines = file.readlines(50000)\n",
        "      #test_data['sentence'][idx] = \"\".join(lines)\n",
        "      for line in file.readlines(100000):\n",
        "        if line.strip() != \"\":\n",
        "          test_data['sentence'][idx] += line.rstrip()\n",
        ""
      ]
    },
    {
      "cell_type": "code",
      "execution_count": null,
      "metadata": {
        "colab": {
          "base_uri": "https://localhost:8080/"
        },
        "id": "Yvs_bh8g3Uf4",
        "outputId": "319a67db-7dc1-424d-db87-f51ed9fe533b"
      },
      "outputs": [
        {
          "name": "stdout",
          "output_type": "stream",
          "text": [
            "Återupptagande av sessionenJag förklarar Europaparlamentets session återupptagen efter avbrottet den\n"
          ]
        }
      ],
      "source": [
        "print(test_data['sentence'][19][:100])"
      ]
    },
    {
      "cell_type": "code",
      "execution_count": null,
      "metadata": {
        "id": "WXWrlDzlEPO7"
      },
      "outputs": [],
      "source": [
        "#import shutil\n",
        "#shutil.rmtree(\"deu_newscrawl-public_2018_10K\", ignore_errors=True)"
      ]
    },
    {
      "cell_type": "markdown",
      "metadata": {
        "id": "sxCjvXSmHyyv"
      },
      "source": [
        "### Data Pre-processing\n",
        "The following carries out the necesssary pre-processings."
      ]
    },
    {
      "cell_type": "code",
      "execution_count": null,
      "metadata": {
        "id": "fa2j5awSItRc"
      },
      "outputs": [],
      "source": [
        "#!pip install unidecode"
      ]
    },
    {
      "cell_type": "code",
      "execution_count": null,
      "metadata": {
        "id": "En4EYCEqHya_"
      },
      "outputs": [],
      "source": [
        "import string\n",
        "import re\n",
        "from unidecode import unidecode\n",
        "#from bs4 import BeautifulSoup\n",
        "\n",
        "url_pattern = re.compile(r'(https:\\/\\/www\\.|http:\\/\\/www\\.|https:\\/\\/|http:\\/\\/)?[a-zA-Z0-9]{2,}(\\.[a-zA-Z0-9]{2,})(\\.[a-zA-Z0-9]{2,})?')\n",
        "\n",
        "\n",
        "def pre_process(sentence):\n",
        "  sentence = unidecode (sentence) # convert string to unicode\n",
        "  sentence = sentence.lower() # convert all characters to lower case\n",
        "  sentence = url_pattern.sub('', sentence) # remove any URLs\n",
        "  sentence = re.sub(\"\\S*\\d\\S*\", \"\", sentence).strip() # Remove any numbers\n",
        "  #sentence = re.sub('[^A-Za-z0-9]+', ' ', sentence) # Remove other unwanted characters\n",
        "  #sentence = re.sub('\\W+', r'', sentence) # Remove other unwanted characters\n",
        "  sentence = sentence.translate(str.maketrans('', '', string.punctuation))\n",
        "  sentence.replace('\\\\n','').replace('\\n', '').replace('\\\\r', '').replace('\\\\t','').replace('\\t','')\n",
        "  sentence = re.sub('\\s+',' ',sentence)\n",
        "\n",
        "  return sentence"
      ]
    },
    {
      "cell_type": "code",
      "execution_count": null,
      "metadata": {
        "id": "F1fn2T9WUp-W",
        "outputId": "20d1e448-6dae-442b-f96f-af06a28723c8"
      },
      "outputs": [
        {
          "name": "stdout",
          "output_type": "stream",
          "text": [
            "ths is only test to see if is taken out and characters to be removed is number mlxtag sstav na parlamenta vzh protokoli\n"
          ]
        }
      ],
      "source": [
        "test_sentence = \"th!s is only test to see if http://www.bbac.omc is taken out', AND @ characters to BE removed# 988789879 is number kiidd9999. $$ <mlxtag> Състав на Парламента: вж. протоколи\"\n",
        "print(pre_process(test_sentence))"
      ]
    },
    {
      "cell_type": "code",
      "execution_count": null,
      "metadata": {
        "id": "p_k6aViwHx5w"
      },
      "outputs": [],
      "source": [
        "for (i,sentence) in enumerate(train_data['sentence']):\n",
        "  train_data['sentence'][i] = pre_process(sentence)"
      ]
    },
    {
      "cell_type": "code",
      "execution_count": null,
      "metadata": {
        "id": "Flz3PIW1DOVS",
        "outputId": "1d61cab6-2831-46fc-b6e7-337575aee055"
      },
      "outputs": [
        {
          "name": "stdout",
          "output_type": "stream",
          "text": [
            " fran skrotnisses lekplats i betyg hotel trollhattan erbjuder hotellrum med narhet till restauranger\n"
          ]
        }
      ],
      "source": [
        "print(train_data['sentence'][19][:100])"
      ]
    },
    {
      "cell_type": "code",
      "execution_count": null,
      "metadata": {
        "id": "SxBO0KpgzpAu"
      },
      "outputs": [],
      "source": [
        "for (i,sentence) in enumerate(test_data['sentence']):\n",
        "  test_data['sentence'][i] = pre_process(sentence)"
      ]
    },
    {
      "cell_type": "code",
      "execution_count": null,
      "metadata": {
        "id": "nHQY101TDOVT",
        "outputId": "8142eb47-5052-4e80-a189-dc5970169921"
      },
      "outputs": [
        {
          "name": "stdout",
          "output_type": "stream",
          "text": [
            "aterupptagande av sessionenjag forklarar europaparlamentets session aterupptagen efter avbrottet den\n"
          ]
        }
      ],
      "source": [
        "print(test_data['sentence'][19][:100])"
      ]
    },
    {
      "cell_type": "markdown",
      "metadata": {
        "id": "y7UjPP2TDOVT"
      },
      "source": [
        "## Task 2.1 Constructing high-dimensional centroids"
      ]
    },
    {
      "cell_type": "code",
      "execution_count": null,
      "metadata": {
        "id": "pHHJuASyDOVT"
      },
      "outputs": [],
      "source": [
        "alphabet = ' abcdefghijklmnopqrstuvwxyz'\n",
        "n_g = 3\n",
        "N_GRAMS=[p for p in itertools.product(alphabet, repeat=n_g)] # get all possible n-grams"
      ]
    },
    {
      "cell_type": "markdown",
      "metadata": {
        "id": "u0lIkdhJDOVT"
      },
      "source": [
        "### Question: what will be the size of the n-gram input vector in conventional (local) representation?\n",
        "The size of the input vector in conventional (local) representation would be 19683 which is also (alphabet_size)^3."
      ]
    },
    {
      "cell_type": "code",
      "execution_count": null,
      "metadata": {
        "id": "c5iNdpN1DOVT",
        "outputId": "4a7f4caa-0746-4ca4-e975-fbb234c13f88"
      },
      "outputs": [
        {
          "data": {
            "text/plain": [
              "19683"
            ]
          },
          "execution_count": 143,
          "metadata": {},
          "output_type": "execute_result"
        }
      ],
      "source": [
        "len(N_GRAMS)"
      ]
    },
    {
      "cell_type": "markdown",
      "metadata": {
        "id": "6rQqhfMtDOVU"
      },
      "source": [
        "### Question: Identify difficulties of working with conventional representations of n-grams in the machine learning context."
      ]
    },
    {
      "cell_type": "markdown",
      "metadata": {
        "id": "_jWuwukCDOVU"
      },
      "source": [
        "- As the size of n-grams increases, the dimensionality of the vector space increases.\n",
        "- High-dimensional vectors require more memory.\n",
        "- Processing and comparing high-dimensional vectors are  computationally expensive.\n",
        "- Large number of parameters makes it hard to generalize to unseen data, hence overfits to training data."
      ]
    },
    {
      "cell_type": "markdown",
      "metadata": {
        "id": "S6tnzC7DDOVU"
      },
      "source": [
        "### Encoding of n-grams using d-dimensional {+1,-1} distributed representation"
      ]
    },
    {
      "cell_type": "code",
      "execution_count": null,
      "metadata": {
        "id": "f0jtmrD5DOVU"
      },
      "outputs": [],
      "source": [
        "alphabet_size = len(alphabet)\n",
        "hd_dimension = 100  # Hyperdimensional vector dimension"
      ]
    },
    {
      "cell_type": "markdown",
      "metadata": {
        "id": "_Re4Ou44DOVU"
      },
      "source": [
        "As mentioned in paper, we initialize a vector, which will store n-gram statistics."
      ]
    },
    {
      "cell_type": "code",
      "execution_count": null,
      "metadata": {
        "id": "6rVmD6KxDOVU"
      },
      "outputs": [],
      "source": [
        "random_item_memory_H = np.random.choice([-1, 1], size=(alphabet_size, hd_dimension))\n",
        "#print(s)"
      ]
    },
    {
      "cell_type": "markdown",
      "metadata": {
        "id": "ljnDPRbLDOVV"
      },
      "source": [
        "We create another vector to help us keep track the position during the process permuting HD vector"
      ]
    },
    {
      "cell_type": "code",
      "execution_count": null,
      "metadata": {
        "id": "6CdJud4gDOVV"
      },
      "outputs": [],
      "source": [
        "permutations =  [np.random.choice([-1, 1], size=hd_dimension) for _ in range(n_g)]\n",
        "#print(permuations)"
      ]
    },
    {
      "cell_type": "markdown",
      "metadata": {
        "id": "NVkaxw8wDOVV"
      },
      "source": [
        "We create encoded n-gram based on the N-GRAMS, the hd memory and the characters in english alphabet"
      ]
    },
    {
      "cell_type": "code",
      "execution_count": null,
      "metadata": {
        "id": "1Gr2TMeDDOVV"
      },
      "outputs": [],
      "source": [
        "def encode_ngram(ngram, item_memory, permutation_vector):\n",
        "    length = len(ngram)\n",
        "    ngram_encoded = np.ones(item_memory.shape[1])  #help with element wise mutliplication below\n",
        "\n",
        "    for j in range(length):\n",
        "        if ngram[j].isspace():\n",
        "            symbol_position = 26\n",
        "        else:\n",
        "            symbol_position = ord(ngram[j]) - ord('a')\n",
        "\n",
        "        permuted_vector = item_memory[symbol_position] * permutation_vector[j]\n",
        "        ngram_encoded *= permuted_vector  # element-wise multiplication here\n",
        "\n",
        "    return ngram_encoded"
      ]
    },
    {
      "cell_type": "code",
      "execution_count": null,
      "metadata": {
        "id": "lclgAjFFDOVV"
      },
      "outputs": [],
      "source": [
        "N_GRAMS_encoded = {}\n",
        "for ngram in N_GRAMS:\n",
        "    N_GRAMS_encoded[str(ngram)] = encode_ngram(ngram, random_item_memory_H, permutations)"
      ]
    },
    {
      "cell_type": "markdown",
      "metadata": {
        "id": "oVFNuDocDOVV"
      },
      "source": [
        "## Task 2.2. Classification using hyperdimensional centroids"
      ]
    },
    {
      "cell_type": "markdown",
      "metadata": {
        "id": "GweulD_zDOVb"
      },
      "source": [
        "#### Training: create N_grams for the languages from the training data\n",
        "\n",
        "Here we take trigrams from the sentences and using the encoded N-grams we update the centroids by adding to them the value of the hd vector corresponding to the specific N-gram we are evaluating. At the end, we are left with 21 centroids which are d-dimensional."
      ]
    },
    {
      "cell_type": "code",
      "execution_count": null,
      "metadata": {
        "id": "j1g4MeFxDOVc"
      },
      "outputs": [],
      "source": [
        "# collect n-gram statitics for all training data\n",
        "#TR_grams=np.zeros((len(N_GRAMS),langLabels.size), dtype='float') # initialize n-gram statistics for the  training\n",
        "TR_grams=[[0]*hd_dimension]*21 # initialize n-gram statistics for the  training"
      ]
    },
    {
      "cell_type": "code",
      "execution_count": null,
      "metadata": {
        "id": "8qnyK7zODOVc"
      },
      "outputs": [],
      "source": [
        "#N_GRAMS_encoded.keys()"
      ]
    },
    {
      "cell_type": "code",
      "execution_count": null,
      "metadata": {
        "id": "j7uKVdzjDOVc",
        "outputId": "c134ccff-4a5f-4220-c0ac-e7803dd36d35"
      },
      "outputs": [
        {
          "name": "stdout",
          "output_type": "stream",
          "text": [
            "bul\n",
            "ces\n",
            "dan\n",
            "deu\n",
            "ell\n",
            "eng\n",
            "est\n",
            "fin\n",
            "fra\n",
            "hun\n",
            "ita\n",
            "lav\n",
            "lit\n",
            "nld\n",
            "pol\n",
            "por\n",
            "ron\n",
            "slk\n",
            "slv\n",
            "spa\n",
            "swe\n"
          ]
        }
      ],
      "source": [
        "for i in range(len(train_data[\"language\"])):\n",
        "    print(train_data[\"language\"][i])\n",
        "\n",
        "    buf_chop = train_data[\"sentence\"][i]\n",
        "    for j in range (len(buf_chop) - (n_g-1)):\n",
        "        ngc=buf_chop [j:(j+(n_g))] #pick current n-gram\n",
        "        #print(ngc)\n",
        "        ngc1= tuple(ngc)\n",
        "        #ind_ngc=N_GRAMS.index(ngc1) # find index in  N_GRAMS\n",
        "        TR_grams[i]+=N_GRAMS_encoded[str(ngc1)] #increment the corresponding statisticss\n",
        "\n",
        "    #TR_grams[:,i]=TR_grams[:,i]/np.linalg.norm(TR_grams[:,i]) # normalize"
      ]
    },
    {
      "cell_type": "code",
      "execution_count": null,
      "metadata": {
        "id": "Nf3riC70DOVc"
      },
      "outputs": [],
      "source": [
        "#print(TR_grams)"
      ]
    },
    {
      "cell_type": "markdown",
      "metadata": {
        "id": "42vGAqddDOVc"
      },
      "source": [
        "#### Testing\n",
        "Similarly to the training process, we calculate the centroids for each language in the test data .\n",
        "\n",
        "We then compare the centroids calculated for each language with all the 21 centroids previously calculated during the training using cosine similarity, and assign the label of the centroid in the training with the highest similarity to the test data we are evaluating."
      ]
    },
    {
      "cell_type": "code",
      "execution_count": null,
      "metadata": {
        "id": "_QfDsszCDOVd",
        "outputId": "78273bc2-ca2c-461a-e503-b1f2179b7d61"
      },
      "outputs": [
        {
          "name": "stdout",
          "output_type": "stream",
          "text": [
            "0 bg\n",
            "predicted  bg\n",
            "predicted  bg\n",
            "predicted  bg\n",
            "1 cs\n",
            "predicted  sk\n",
            "predicted  sk\n",
            "predicted  sk\n",
            "2 da\n",
            "predicted  da\n",
            "predicted  da\n",
            "predicted  da\n",
            "3 de\n",
            "predicted  de\n",
            "predicted  de\n",
            "predicted  de\n",
            "4 el\n",
            "predicted  el\n",
            "predicted  el\n",
            "predicted  el\n",
            "5 es\n",
            "predicted  sv\n",
            "predicted  sv\n",
            "predicted  sv\n",
            "6 et\n",
            "predicted  fi\n",
            "predicted  fi\n",
            "predicted  fi\n",
            "7 fi\n",
            "predicted  fi\n",
            "predicted  fi\n",
            "predicted  fi\n",
            "8 fr\n",
            "predicted  fr\n",
            "predicted  fr\n",
            "predicted  fr\n",
            "9 hu\n",
            "predicted  hu\n",
            "predicted  hu\n",
            "predicted  hu\n",
            "10 it\n",
            "predicted  it\n",
            "predicted  it\n",
            "predicted  it\n",
            "11 lt\n",
            "predicted  lv\n",
            "predicted  lv\n",
            "predicted  lv\n",
            "12 lv\n",
            "predicted  lt\n",
            "predicted  lt\n",
            "predicted  lt\n",
            "13 nl\n",
            "predicted  nl\n",
            "predicted  nl\n",
            "predicted  nl\n",
            "14 pl\n",
            "predicted  pl\n",
            "predicted  pl\n",
            "predicted  pl\n",
            "15 pt\n",
            "predicted  pt\n",
            "predicted  pt\n",
            "predicted  pt\n",
            "16 ro\n",
            "predicted  sv\n",
            "predicted  sv\n",
            "predicted  sv\n",
            "17 sk\n",
            "predicted  sk\n",
            "predicted  sk\n",
            "predicted  sk\n",
            "18 sl\n",
            "predicted  sl\n",
            "predicted  sl\n",
            "predicted  sl\n",
            "19 sv\n",
            "predicted  en\n",
            "predicted  en\n",
            "predicted  en\n",
            "20 en\n",
            "predicted  es\n",
            "predicted  es\n",
            "predicted  es\n"
          ]
        }
      ],
      "source": [
        "# collect n-gram statistics for all testing data\n",
        "labels_size = len(test_data[\"language\"])\n",
        "exm_size = 3\n",
        "TS_grams = [[0] * hd_dimension for _ in range(labels_size * exm_size)]  # initialize n-gram statistics for the test example\n",
        "\n",
        "GT = [None] * labels_size * exm_size  # ground truth\n",
        "PR = [None] * labels_size * exm_size  # prediction\n",
        "\n",
        "for i in range(labels_size):\n",
        "    print(i, test_data['language'][i])\n",
        "    buf_chop = test_data[\"sentence\"][i] #pick the current portion\n",
        "    for j in range(exm_size):\n",
        "\n",
        "        # Initialize TS_grams for each test example\n",
        "        for k in range(len(buf_chop) - (n_g - 1)):\n",
        "            ngc = buf_chop[k:(k + n_g)]  # pick current n-gram\n",
        "            ngc = tuple(ngc)\n",
        "            TS_grams[i * exm_size + j] += N_GRAMS_encoded.get(str(ngc), [0] * hd_dimension)  # increment the corresponding statistics\n",
        "\n",
        "        DP = np.dot(np.array(TS_grams[i * exm_size + j]).reshape(1, -1), np.array(TR_grams).transpose())\n",
        "        ind = np.argmax(DP)  # index of predicted language\n",
        "        PR[i * exm_size + j] = test_data[\"language\"][ind]  #test_data[\"language\"][ind]\n",
        "        GT[i * exm_size + j] = test_data['language'][i]  # add ground truth\n",
        "\n",
        "        print(\"predicted \", test_data[\"language\"][ind])"
      ]
    },
    {
      "cell_type": "markdown",
      "metadata": {
        "id": "Bp8ds9JCDOVd"
      },
      "source": [
        "#### Result\n",
        "We calculated both the accuracy and the F1-Score using a weighed mean, as well as presented a visualization with a confusion matrix."
      ]
    },
    {
      "cell_type": "markdown",
      "source": [
        "Using a **dimension of 100**, the **accuracy is 61.9%** and **F1 score is 58.73%**. The confusion matrix is plotted below."
      ],
      "metadata": {
        "id": "M_nQWXQYEWZZ"
      }
    },
    {
      "cell_type": "code",
      "execution_count": null,
      "metadata": {
        "id": "j1UfJTw5DOVd",
        "outputId": "9a37c9f8-9fb3-4fc8-a44f-3df81af34ae1"
      },
      "outputs": [
        {
          "name": "stdout",
          "output_type": "stream",
          "text": [
            "The accuracy with dimension 100 = 61.904761904761905%, the F1-Score = 0.5873015873015873\n"
          ]
        }
      ],
      "source": [
        "# accuracy and F1-Score\n",
        "from sklearn.metrics import f1_score\n",
        "\n",
        "acc=0.0\n",
        "for i in range(len(GT)):\n",
        "   acc+=(PR[i]==GT[i])\n",
        "\n",
        "F1_Score = f1_score(GT, PR, average='weighted')\n",
        "\n",
        "acc=acc/len(GT)\n",
        "print(f\"The accuracy with dimension {hd_dimension} = {100*acc}%, the F1-Score = {F1_Score}\")"
      ]
    },
    {
      "cell_type": "code",
      "execution_count": null,
      "metadata": {
        "id": "zKuqbApSDOVd",
        "outputId": "5dd3eeca-0851-4d63-b7bb-855a2efa6764"
      },
      "outputs": [
        {
          "data": {
            "text/plain": [
              "<Axes: >"
            ]
          },
          "execution_count": 50,
          "metadata": {},
          "output_type": "execute_result"
        },
        {
          "data": {
            "image/png": "[encoded data removed]",
            "text/plain": [
              "<Figure size 1800x1800 with 2 Axes>"
            ]
          },
          "metadata": {},
          "output_type": "display_data"
        }
      ],
      "source": [
        "conf_mat= sklearn.metrics.confusion_matrix(GT, PR, labels=None, sample_weight=None)\n",
        "Labels_arr = ['bul', 'ces', 'dan', 'nld', 'deu', 'eng', 'est', 'fin', 'fra',\n",
        "       'ell', 'hun', 'ita', 'lav', 'lit', 'pol', 'por', 'ron', 'slk',\n",
        "       'slv', 'spa', 'swe']\n",
        "#plot confusion matrix\n",
        "%matplotlib inline\n",
        "df_cm = pd.DataFrame(conf_mat, index = [i for i in Labels_arr], columns = [j for j in Labels_arr])\n",
        "plt.figure(figsize = (18,18))\n",
        "sn.heatmap(df_cm, annot=True)"
      ]
    },
    {
      "cell_type": "markdown",
      "source": [
        "Using a **dimension of 1000**, the **accuracy is 61.9%** and **F1 score is 58.73%**. The confusion matrix is plotted below."
      ],
      "metadata": {
        "id": "Gtkx8jdIEwjV"
      }
    },
    {
      "cell_type": "code",
      "execution_count": null,
      "metadata": {
        "id": "E6IRxRfVDOVe",
        "outputId": "0b88723b-d599-4662-db5a-d250bb440fbb"
      },
      "outputs": [
        {
          "name": "stdout",
          "output_type": "stream",
          "text": [
            "The accuracy with dimension 1000 = 57.14285714285714%, the F1-Score = 0.5158730158730159\n"
          ]
        }
      ],
      "source": [
        "# accuracy and F1-Score\n",
        "from sklearn.metrics import f1_score\n",
        "\n",
        "acc=0.0\n",
        "for i in range(len(GT)):\n",
        "   acc+=(PR[i]==GT[i])\n",
        "\n",
        "F1_Score = f1_score(GT, PR, average='weighted')\n",
        "\n",
        "acc=acc/len(GT)\n",
        "print(f\"The accuracy with dimension {hd_dimension} = {100*acc}%, the F1-Score = {F1_Score}\")"
      ]
    },
    {
      "cell_type": "code",
      "execution_count": null,
      "metadata": {
        "id": "Nig9ZIlmDOVe",
        "outputId": "e23fa7c9-46cc-4521-dfa1-44a263f02512"
      },
      "outputs": [
        {
          "data": {
            "text/plain": [
              "<Axes: >"
            ]
          },
          "execution_count": 40,
          "metadata": {},
          "output_type": "execute_result"
        },
        {
          "data": {
            "image/png": "[encoded data removed]",
            "text/plain": [
              "<Figure size 1800x1800 with 2 Axes>"
            ]
          },
          "metadata": {},
          "output_type": "display_data"
        }
      ],
      "source": [
        "conf_mat= sklearn.metrics.confusion_matrix(GT, PR, labels=None, sample_weight=None)\n",
        "Labels_arr = ['bul', 'ces', 'dan', 'nld', 'deu', 'eng', 'est', 'fin', 'fra',\n",
        "       'ell', 'hun', 'ita', 'lav', 'lit', 'pol', 'por', 'ron', 'slk',\n",
        "       'slv', 'spa', 'swe']\n",
        "#plot confusion matrix\n",
        "%matplotlib inline\n",
        "df_cm = pd.DataFrame(conf_mat, index = [i for i in Labels_arr], columns = [j for j in Labels_arr])\n",
        "plt.figure(figsize = (18,18))\n",
        "sn.heatmap(df_cm, annot=True)"
      ]
    }
  ],
  "metadata": {
    "colab": {
      "provenance": []
    },
    "kernelspec": {
      "display_name": "Python 3.9.13 ('.venv': venv)",
      "language": "python",
      "name": "python3"
    },
    "language_info": {
      "codemirror_mode": {
        "name": "ipython",
        "version": 3
      },
      "file_extension": ".py",
      "mimetype": "text/x-python",
      "name": "python",
      "nbconvert_exporter": "python",
      "pygments_lexer": "ipython3",
      "version": "3.9.13"
    },
    "orig_nbformat": 4,
    "vscode": {
      "interpreter": {
        "hash": "03620c8715212c6cc618e9020293c0d8e3c1c15a05836a8c38a0f13ef35c0fe5"
      }
    }
  },
  "nbformat": 4,
  "nbformat_minor": 0
}