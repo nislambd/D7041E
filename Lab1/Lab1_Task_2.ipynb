{
  "nbformat": 4,
  "nbformat_minor": 0,
  "metadata": {
    "colab": {
      "provenance": [],
      "authorship_tag": "ABX9TyMB7OrZBsoqtkxcmPSSxaXb"
    },
    "kernelspec": {
      "name": "python3",
      "display_name": "Python 3"
    },
    "language_info": {
      "name": "python"
    }
  },
  "cells": [
    {
      "cell_type": "markdown",
      "source": [
        "#D7041E Applied artificial intelligence (Lab1, Task 2.1 & 2.2)\n",
        "Nazrul Islam & Srinivas Bobba (Group 6)"
      ],
      "metadata": {
        "id": "bAaDQV_jdy0h"
      }
    },
    {
      "cell_type": "code",
      "execution_count": null,
      "metadata": {
        "id": "ToeKFjM1dd05"
      },
      "outputs": [],
      "source": [
        "import numpy as np\n",
        "from statistics import mode\n",
        "from collections import Counter\n",
        "from matplotlib import pyplot as plt\n",
        "from keras.datasets import mnist\n",
        "from sklearn.model_selection import KFold"
      ]
    },
    {
      "cell_type": "markdown",
      "source": [
        "Below code is already provided"
      ],
      "metadata": {
        "id": "EP4e3ILxedTF"
      }
    },
    {
      "cell_type": "code",
      "source": [
        "(Xtr, Ltr), (X_test, L_test)=mnist.load_data()\n",
        "\n",
        "Image=Xtr[0,:,:]\n",
        "Label=Ltr[0]\n",
        "\n",
        "\n",
        "plt.title('Label is {Label}'.format(Label=Label))\n",
        "plt.imshow(Image)\n",
        "\n",
        "plt.show()\n",
        "plt.close()"
      ],
      "metadata": {
        "colab": {
          "base_uri": "https://localhost:8080/",
          "height": 487
        },
        "id": "S_OTZjqHeUhJ",
        "outputId": "567aa735-aa4c-4f29-ab3d-5a6240ce1eaa"
      },
      "execution_count": null,
      "outputs": [
        {
          "output_type": "stream",
          "name": "stdout",
          "text": [
            "Downloading data from https://storage.googleapis.com/tensorflow/tf-keras-datasets/mnist.npz\n",
            "11490434/11490434 [==============================] - 0s 0us/step\n"
          ]
        },
        {
          "output_type": "display_data",
          "data": {
            "text/plain": [
              "<Figure size 640x480 with 1 Axes>"
            ],
            "image/png": "[encoded data removed]"
          },
          "metadata": {}
        }
      ]
    },
    {
      "cell_type": "code",
      "source": [
        "fig, ax=plt.subplots(nrows=1, ncols=2, figsize=(15,15))\n",
        "ax0=plt.subplot(2,2,1)\n",
        "ax1=plt.subplot(2,2,2)\n",
        "\n",
        "Image=Xtr[0,:,:]\n",
        "Label=Ltr[0]\n",
        "Image1=Xtr[1,:,:]\n",
        "Label1=Ltr[1]\n",
        "\n",
        "\n",
        "ax0.set_title('Label is {Label}'.format(Label=Label))\n",
        "ax0.imshow(Image)\n",
        "ax1.set_title('Label is {Label}'.format(Label=Label1))\n",
        "ax1.imshow(Image1)\n",
        "\n",
        "\n",
        "plt.show()\n",
        "plt.close()"
      ],
      "metadata": {
        "colab": {
          "base_uri": "https://localhost:8080/",
          "height": 697
        },
        "id": "yxF_a09NebrS",
        "outputId": "8811e1a6-2726-4701-c8a2-ccc51b852d66"
      },
      "execution_count": null,
      "outputs": [
        {
          "output_type": "stream",
          "name": "stderr",
          "text": [
            "<ipython-input-3-29efb6253963>:2: MatplotlibDeprecationWarning: Auto-removal of overlapping axes is deprecated since 3.6 and will be removed two minor releases later; explicitly call ax.remove() as needed.\n",
            "  ax0=plt.subplot(2,2,1)\n",
            "<ipython-input-3-29efb6253963>:3: MatplotlibDeprecationWarning: Auto-removal of overlapping axes is deprecated since 3.6 and will be removed two minor releases later; explicitly call ax.remove() as needed.\n",
            "  ax1=plt.subplot(2,2,2)\n"
          ]
        },
        {
          "output_type": "display_data",
          "data": {
            "text/plain": [
              "<Figure size 1500x1500 with 2 Axes>"
            ],
            "image/png": "[encoded data removed]"
          },
          "metadata": {}
        }
      ]
    },
    {
      "cell_type": "code",
      "source": [
        "#Traing phase\n",
        "num_sample=500\n",
        "Tr_set=Xtr[:num_sample,:,:]\n",
        "Ltr_set=Ltr[:num_sample]\n",
        "\n",
        "#Tr_set=Tr_set.reshape(num_sample,Tr_set.shape[1]*Tr_set.shape[2])\n",
        "\n",
        "Tr_set=Tr_set.reshape(num_sample,Tr_set.shape[1]*Tr_set.shape[2]).astype(int) # here is bug that we have fixed.\n",
        "Tr_set.shape"
      ],
      "metadata": {
        "colab": {
          "base_uri": "https://localhost:8080/"
        },
        "id": "n7wojITPesEi",
        "outputId": "6e174e04-3eff-47f9-e22b-b7922d4bd450"
      },
      "execution_count": null,
      "outputs": [
        {
          "output_type": "execute_result",
          "data": {
            "text/plain": [
              "(500, 784)"
            ]
          },
          "metadata": {},
          "execution_count": 4
        }
      ]
    },
    {
      "cell_type": "code",
      "source": [
        "def predict(X):\n",
        "    num_test=X.shape[0]\n",
        "    Lpred=np.zeros(num_test, dtype=Ltr_set.dtype)\n",
        "\n",
        "    for i in range(num_test):\n",
        "        distances=np.sum(np.abs(Tr_set-X[i,:]),axis=1)\n",
        "\n",
        "        min_index= np.argmin(distances)\n",
        "        Lpred[i]=Ltr_set[min_index]\n",
        "    return Lpred"
      ],
      "metadata": {
        "id": "bREGgd8wevAe"
      },
      "execution_count": null,
      "outputs": []
    },
    {
      "cell_type": "code",
      "source": [
        "Test_images=X_test.reshape(X_test.shape[0],X_test.shape[1]* X_test.shape[2])"
      ],
      "metadata": {
        "id": "2NxTIUx8g1hD"
      },
      "execution_count": null,
      "outputs": []
    },
    {
      "cell_type": "markdown",
      "source": [
        "##Task 2.1"
      ],
      "metadata": {
        "id": "drLcovxFmhfr"
      }
    },
    {
      "cell_type": "markdown",
      "source": [
        "(*Point 1*) When we run the code as is, we get accuracy of **0.2649** as in the code below ."
      ],
      "metadata": {
        "id": "uCOursgDfxSn"
      }
    },
    {
      "cell_type": "code",
      "source": [
        "Labels_predicted=predict(Test_images)\n",
        "print(\"Accuracy:\", np.mean(Labels_predicted==L_test))"
      ],
      "metadata": {
        "colab": {
          "base_uri": "https://localhost:8080/"
        },
        "id": "_-4uTbR4ex5j",
        "outputId": "4ec01042-953b-4301-d742-071dc9bc9ff6"
      },
      "execution_count": null,
      "outputs": [
        {
          "output_type": "stream",
          "name": "stdout",
          "text": [
            "Accuracy: 0.2649\n"
          ]
        }
      ]
    },
    {
      "cell_type": "markdown",
      "source": [
        "(*Point 3*) As we fixed the bug (.astype(int)) in above code, the accuracy is much higher which is **0.811**"
      ],
      "metadata": {
        "id": "Lm0-aRhPnibH"
      }
    },
    {
      "cell_type": "code",
      "source": [
        "Labels_predicted=predict(Test_images)\n",
        "print(\"Accuracy:\", np.mean(Labels_predicted==L_test))"
      ],
      "metadata": {
        "colab": {
          "base_uri": "https://localhost:8080/"
        },
        "id": "pHq2lfJFg6Ok",
        "outputId": "f3a353d1-2cb0-4e1e-aafa-235691737713"
      },
      "execution_count": null,
      "outputs": [
        {
          "output_type": "stream",
          "name": "stdout",
          "text": [
            "Accuracy: 0.811\n"
          ]
        }
      ]
    },
    {
      "cell_type": "markdown",
      "source": [
        "(*Point 2*) We have created based on the predict() function in the given code. We have mode the distance equation to calculate the square root of the sum of the squared vector values. (line 7 below)"
      ],
      "metadata": {
        "id": "Xm8pldJghMgO"
      }
    },
    {
      "cell_type": "code",
      "source": [
        "def predict_l2norm(X):\n",
        "    num_test=X.shape[0]\n",
        "    Lpred=np.zeros(num_test, dtype=Ltr_set.dtype)\n",
        "\n",
        "    for i in range(num_test):\n",
        "        #distances=np.sum(np.abs(Tr_set-X[i,:]),axis=1)\n",
        "        distances=np.sqrt(np.sum(np.square(np.abs(Tr_set-X[i,:])),axis=1))\n",
        "\n",
        "        min_index= np.argmin(distances)\n",
        "        Lpred[i]=Ltr_set[min_index]\n",
        "    return Lpred"
      ],
      "metadata": {
        "id": "jkl_yxlDe9DJ"
      },
      "execution_count": null,
      "outputs": []
    },
    {
      "cell_type": "markdown",
      "source": [
        "We tried to the accuracy of the prediction using both the code without fixing bug and after fixing the bug. We get the accuracies as below. (**0.19** and **0.8294**)"
      ],
      "metadata": {
        "id": "7rNOeo3ifc9K"
      }
    },
    {
      "cell_type": "code",
      "source": [
        "Labels_predicted=predict_l2norm(Test_images)\n",
        "print(\"Accuracy:\", np.mean(Labels_predicted==L_test))"
      ],
      "metadata": {
        "colab": {
          "base_uri": "https://localhost:8080/"
        },
        "id": "PNrVjaXFnou8",
        "outputId": "dcccee35-52aa-4453-fc8a-e57ffa5fade6"
      },
      "execution_count": null,
      "outputs": [
        {
          "output_type": "stream",
          "name": "stdout",
          "text": [
            "Accuracy: 0.19\n"
          ]
        }
      ]
    },
    {
      "cell_type": "code",
      "source": [
        "Labels_predicted=predict_l2norm(Test_images)\n",
        "print(\"Accuracy:\", np.mean(Labels_predicted==L_test))"
      ],
      "metadata": {
        "colab": {
          "base_uri": "https://localhost:8080/"
        },
        "id": "Tr3Af1mFffCa",
        "outputId": "ec312d6c-bf87-43aa-886f-f37ace8fb38d"
      },
      "execution_count": null,
      "outputs": [
        {
          "output_type": "stream",
          "name": "stdout",
          "text": [
            "Accuracy: 0.8294\n"
          ]
        }
      ]
    },
    {
      "cell_type": "markdown",
      "source": [
        "(*Point 4*)\n",
        "The function below is an extension from the code above that accepts an additional parameter value of K, so that it finds k closest images and vote on the label of the test image."
      ],
      "metadata": {
        "id": "ESJDV2EXoQl3"
      }
    },
    {
      "cell_type": "code",
      "source": [
        "def predict_knn(X,k):\n",
        "    num_test=X.shape[0]\n",
        "    Lpred=np.zeros(num_test, dtype=Ltr_set.dtype)\n",
        "\n",
        "    for i in range(num_test):\n",
        "        distances=np.sum(np.abs(Tr_set-X[i,:]),axis=1)\n",
        "\n",
        "        min_index= np.argsort(distances)[:k]\n",
        "        Lpred[i]=mode(Ltr_set[min_index])\n",
        "    return Lpred"
      ],
      "metadata": {
        "id": "wpJdPvkyoT6h"
      },
      "execution_count": null,
      "outputs": []
    },
    {
      "cell_type": "code",
      "source": [
        "#using K=1\n",
        "Labels_predicted_k = predict_knn(Test_images, 1)\n",
        "print(\"Accuracy:\", np.mean(Labels_predicted_k==L_test))"
      ],
      "metadata": {
        "colab": {
          "base_uri": "https://localhost:8080/"
        },
        "id": "tbER5tntotJ3",
        "outputId": "1a272b06-ded8-4f79-a953-ec5f9e10b2e5"
      },
      "execution_count": null,
      "outputs": [
        {
          "output_type": "stream",
          "name": "stdout",
          "text": [
            "Accuracy: 0.811\n"
          ]
        }
      ]
    },
    {
      "cell_type": "code",
      "source": [
        "#using K=3\n",
        "Labels_predicted_k = predict_knn(Test_images, 3)\n",
        "print(\"Accuracy:\", np.mean(Labels_predicted_k==L_test))"
      ],
      "metadata": {
        "colab": {
          "base_uri": "https://localhost:8080/"
        },
        "id": "K6t6wnu9qU3A",
        "outputId": "e8858d77-e5ba-43ca-c0b5-ca046a926b43"
      },
      "execution_count": null,
      "outputs": [
        {
          "output_type": "stream",
          "name": "stdout",
          "text": [
            "Accuracy: 0.8003\n"
          ]
        }
      ]
    },
    {
      "cell_type": "markdown",
      "source": [
        "##Task 2.2 Hyperparameters, cross-validation"
      ],
      "metadata": {
        "id": "Uf74zdpFq_Xh"
      }
    },
    {
      "cell_type": "markdown",
      "source": [
        "(*Point 1*) In the below function, we extended the function above accept separate train and validation data as parameters."
      ],
      "metadata": {
        "id": "RlE_2_FLhbFa"
      }
    },
    {
      "cell_type": "code",
      "source": [
        "def predict_knn_crossval(val_data,train_data,train_label,k):\n",
        "    num_test=val_data.shape[0]\n",
        "\n",
        "    Lpred=np.zeros(num_test, dtype=Ltr_set.dtype)\n",
        "    for i in range(num_test):\n",
        "        distances=np.sqrt(np.sum(np.square(np.abs(train_data-val_data[i,:])),axis=1))\n",
        "\n",
        "        k_closest = np.argsort(distances)[:k]\n",
        "\n",
        "        Lpred[i]=mode(train_label[k_closest])\n",
        "    return Lpred"
      ],
      "metadata": {
        "id": "dyPmkENgrBo8"
      },
      "execution_count": null,
      "outputs": []
    },
    {
      "cell_type": "markdown",
      "source": [
        "We created these functions using the given code above, so that we can call it within a loop"
      ],
      "metadata": {
        "id": "_jkYr1F8iF3w"
      }
    },
    {
      "cell_type": "code",
      "source": [
        "def shuffled_copies(a, b):\n",
        "  assert len(a) == len(b)\n",
        "  p = np.random.permutation(len(a))\n",
        "  return a[p], b[p]"
      ],
      "metadata": {
        "id": "-NpadO5YafN6"
      },
      "execution_count": null,
      "outputs": []
    },
    {
      "cell_type": "code",
      "source": [
        "def randomize_data():\n",
        "    num_sample=500\n",
        "    random_train_data, random_label_data = shuffled_copies(Xtr,Ltr)\n",
        "    Tr_set_random=random_train_data[:num_sample,:,:]\n",
        "    Ltr_set_random=random_label_data[:num_sample]\n",
        "    #Tr_set=Tr_set.reshape(num_sample,Tr_set.shape[1]*Tr_set.shape[2])\n",
        "\n",
        "    Tr_set_random=Tr_set_random.reshape(num_sample,Tr_set_random.shape[1]*Tr_set_random.shape[2]).astype(int)\n",
        "    Tr_set_random.shape\n",
        "    return Tr_set_random, Ltr_set_random"
      ],
      "metadata": {
        "id": "06rDjDbmh8Yo"
      },
      "execution_count": null,
      "outputs": []
    },
    {
      "cell_type": "markdown",
      "source": [
        "We created this function to run the cross validations."
      ],
      "metadata": {
        "id": "YwdJxGmuirBL"
      }
    },
    {
      "cell_type": "code",
      "source": [
        "def cross_validation(train_data, train_label, fold):\n",
        "\n",
        "    kfold = KFold(n_splits=fold)\n",
        "    ac = []\n",
        "    k_ac = []\n",
        "\n",
        "    for k in range(1,10):\n",
        "        for train, val in kfold.split(train_data):\n",
        "            train_set = train_data[train]\n",
        "            val_set = train_data[val]\n",
        "\n",
        "            train_label_set = train_label[train]\n",
        "            val_label_set = train_label[val]\n",
        "\n",
        "            label_predict = predict_knn_crossval(val_set, train_set, train_label_set, k)\n",
        "            ac.append(np.mean(label_predict==val_label_set))\n",
        "\n",
        "        ac_mean = np.mean(ac)\n",
        "        k_ac.append(ac_mean)\n",
        "\n",
        "    return(k_ac)"
      ],
      "metadata": {
        "id": "YTxWSN3lr6Nl"
      },
      "execution_count": null,
      "outputs": []
    },
    {
      "cell_type": "markdown",
      "source": [
        "Here's the actual execution of the fuctions we have created to far that runs over a loop, to get the best value of k."
      ],
      "metadata": {
        "id": "0yztwVizi0T9"
      }
    },
    {
      "cell_type": "code",
      "source": [
        "best_k_value = []\n",
        "fold = 3\n",
        "for i in range(1,20):\n",
        "    T_Data,L_data = randomize_data()\n",
        "    k_ac=cross_validation(T_Data,L_data,fold)\n",
        "    best_k_value.append(np.argmax(k_ac)+1)\n",
        "\n",
        "print(best_k_value)"
      ],
      "metadata": {
        "colab": {
          "base_uri": "https://localhost:8080/"
        },
        "id": "JxY_YPFYsjxV",
        "outputId": "2a38328a-7ada-4948-9bbc-2d313ab9a98f"
      },
      "execution_count": null,
      "outputs": [
        {
          "output_type": "stream",
          "name": "stdout",
          "text": [
            "[4, 1, 1, 3, 1, 5, 1, 3, 1, 1, 1, 1, 6, 1, 1, 4, 6, 1, 1]\n"
          ]
        }
      ]
    },
    {
      "cell_type": "markdown",
      "source": [
        "(*Point 2*) Now, we will find which k value is more frequent, meanings that that's the best one we need to use."
      ],
      "metadata": {
        "id": "irpihjvllgO7"
      }
    },
    {
      "cell_type": "code",
      "source": [
        "value = Counter(best_k_value)\n",
        "value.most_common(1)[0][0]\n",
        "print( value.most_common(1)[0][0])"
      ],
      "metadata": {
        "colab": {
          "base_uri": "https://localhost:8080/"
        },
        "id": "sCZT1BQnuSvv",
        "outputId": "593143b4-a1eb-4087-82a7-f22a5b8bce8e"
      },
      "execution_count": null,
      "outputs": [
        {
          "output_type": "stream",
          "name": "stdout",
          "text": [
            "1\n"
          ]
        }
      ]
    },
    {
      "cell_type": "code",
      "source": [
        "acc_value = predict_knn(Test_images, value.most_common(1)[0][0])\n",
        "print('The best K value is ',value.most_common(1)[0][0], \", which is the acc value\" , np.mean(acc_value==L_test))"
      ],
      "metadata": {
        "colab": {
          "base_uri": "https://localhost:8080/"
        },
        "id": "6y1CRD-OuEBW",
        "outputId": "88038e99-c28a-40b4-82e6-0fd97d857138"
      },
      "execution_count": null,
      "outputs": [
        {
          "output_type": "stream",
          "name": "stdout",
          "text": [
            "The best K value is  1 , which is the acc value 0.811\n"
          ]
        }
      ]
    }
  ]
}