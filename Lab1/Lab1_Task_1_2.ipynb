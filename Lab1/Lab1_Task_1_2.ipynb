{
  "nbformat": 4,
  "nbformat_minor": 0,
  "metadata": {
    "colab": {
      "provenance": [],
      "authorship_tag": "ABX9TyMyBa0nwzGE63LqP8/qyHfs"
    },
    "kernelspec": {
      "name": "python3",
      "display_name": "Python 3"
    },
    "language_info": {
      "name": "python"
    }
  },
  "cells": [
    {
      "cell_type": "markdown",
      "source": [
        "# D7041E Applied artificial intelligence (Lab1, Task 1.2 Import somebody’s else dataset)\n",
        "Nazrul Islam & Srinivas Bobba (Group 6)"
      ],
      "metadata": {
        "id": "j_PVkl3VYCpc"
      }
    },
    {
      "cell_type": "code",
      "execution_count": null,
      "metadata": {
        "id": "9fTyYjEcC9zi"
      },
      "outputs": [],
      "source": [
        "import numpy as np"
      ]
    },
    {
      "cell_type": "markdown",
      "source": [
        "Here we load the given the data"
      ],
      "metadata": {
        "id": "BXZ_CmEydbZB"
      }
    },
    {
      "cell_type": "code",
      "source": [
        "data = np.load(\"vecs.npy\",allow_pickle = True)"
      ],
      "metadata": {
        "id": "Tclws8lJEm2F"
      },
      "execution_count": null,
      "outputs": []
    },
    {
      "cell_type": "code",
      "source": [
        "dict = data.item()\n",
        "labels = []\n",
        "embeddings = []"
      ],
      "metadata": {
        "id": "JUXQAnbsD_4O"
      },
      "execution_count": null,
      "outputs": []
    },
    {
      "cell_type": "code",
      "source": [
        "print(dict.keys())"
      ],
      "metadata": {
        "colab": {
          "base_uri": "https://localhost:8080/"
        },
        "id": "LQDyGnNGa2ht",
        "outputId": "613f1e87-18bf-4ee7-d3d1-7ea0afc0a736"
      },
      "execution_count": null,
      "outputs": [
        {
          "output_type": "stream",
          "name": "stdout",
          "text": [
            "dict_keys(['1_pos', '2_pos', '3_pos', '4_pos', '5_pos', '6_pos', '7_pos', '8_pos', '9_pos'])\n"
          ]
        }
      ]
    },
    {
      "cell_type": "code",
      "source": [
        "parts = dict.keys()"
      ],
      "metadata": {
        "id": "4hbryjKdcO3H"
      },
      "execution_count": null,
      "outputs": []
    },
    {
      "cell_type": "markdown",
      "source": [
        "This function will fill in two arrays with labels and embeddings from item dictionary loaded from the given file."
      ],
      "metadata": {
        "id": "_Veo7cz_duPm"
      }
    },
    {
      "cell_type": "code",
      "source": [
        "def createNumpyArrayFromDict(pos):\n",
        "  print(pos)\n",
        "  for l in dict[pos]:\n",
        "    for e in dict[pos][l]:\n",
        "      labels.append(l)\n",
        "      embeddings.append(e)"
      ],
      "metadata": {
        "id": "LzE7NpanEtFa"
      },
      "execution_count": null,
      "outputs": []
    },
    {
      "cell_type": "markdown",
      "source": [
        "This is function does the random permuting of the order of the labels and embeddings."
      ],
      "metadata": {
        "id": "H4hCsTAGeKoH"
      }
    },
    {
      "cell_type": "code",
      "source": [
        "def shuffled_copies(a, b):\n",
        "  assert len(a) == len(b)\n",
        "  p = np.random.permutation(len(a))\n",
        "  return a[p], b[p]"
      ],
      "metadata": {
        "id": "-NpadO5YafN6"
      },
      "execution_count": null,
      "outputs": []
    },
    {
      "cell_type": "code",
      "source": [
        "for part in parts:\n",
        "    createNumpyArrayFromDict(part)"
      ],
      "metadata": {
        "colab": {
          "base_uri": "https://localhost:8080/"
        },
        "id": "sJvxjOfiajSi",
        "outputId": "a9deebfa-e205-4d32-ef31-614a7bc46f46"
      },
      "execution_count": null,
      "outputs": [
        {
          "output_type": "stream",
          "name": "stdout",
          "text": [
            "1_pos\n",
            "2_pos\n",
            "3_pos\n",
            "4_pos\n",
            "5_pos\n",
            "6_pos\n",
            "7_pos\n",
            "8_pos\n",
            "9_pos\n"
          ]
        }
      ]
    },
    {
      "cell_type": "code",
      "source": [
        "numpy_embed = np.array(embeddings)\n",
        "numpy_labels = np.array(labels)"
      ],
      "metadata": {
        "id": "dbtdpViEakfk"
      },
      "execution_count": null,
      "outputs": []
    },
    {
      "cell_type": "code",
      "source": [
        "numpy_labels, numpy_embed = shuffled_copies(numpy_labels, numpy_embed)"
      ],
      "metadata": {
        "id": "25Ng9BcKao16"
      },
      "execution_count": null,
      "outputs": []
    },
    {
      "cell_type": "code",
      "source": [
        "print(numpy_labels)\n",
        "print(numpy_embed)"
      ],
      "metadata": {
        "colab": {
          "base_uri": "https://localhost:8080/"
        },
        "id": "3KwLEbF-apyC",
        "outputId": "887f65e6-362d-4777-c18c-1f60fc860f3e"
      },
      "execution_count": null,
      "outputs": [
        {
          "output_type": "stream",
          "name": "stdout",
          "text": [
            "[7 3 4 ... 5 9 4]\n",
            "[[-0.       0.      -0.      ... -0.      -0.      -0.     ]\n",
            " [-0.      -0.      -0.      ... -0.      -0.      -0.     ]\n",
            " [-0.      -0.      -0.      ... -0.      -0.      -0.     ]\n",
            " ...\n",
            " [-0.      -0.      -0.      ... -0.      -0.      -0.     ]\n",
            " [-0.      -0.      -0.      ... -0.      -0.      -0.     ]\n",
            " [-0.      -0.      34.20333 ... -0.      -0.      -0.     ]]\n"
          ]
        }
      ]
    },
    {
      "cell_type": "markdown",
      "source": [
        "Finally, these are two numpy array required in this exercise."
      ],
      "metadata": {
        "id": "N0m_EU0segLe"
      }
    },
    {
      "cell_type": "code",
      "source": [
        "print(len(numpy_embed))\n",
        "print(len(numpy_labels))"
      ],
      "metadata": {
        "colab": {
          "base_uri": "https://localhost:8080/"
        },
        "id": "aZP_1VIsawMr",
        "outputId": "e373fb19-45a5-4b97-9b19-5ca39dd072c4"
      },
      "execution_count": null,
      "outputs": [
        {
          "output_type": "stream",
          "name": "stdout",
          "text": [
            "11302\n",
            "11302\n"
          ]
        }
      ]
    }
  ]
}